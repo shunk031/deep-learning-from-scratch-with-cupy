{
 "cells": [
  {
   "cell_type": "markdown",
   "metadata": {},
   "source": [
    "# CuPyをインストールする"
   ]
  },
  {
   "cell_type": "markdown",
   "metadata": {},
   "source": [
    "## CuPyとは\n",
    "\n",
    "CupyはディープラーニングのフレームワークであるChainerのGPUバックエンドである。 CupyはNumpyとの互換性が強く意識されているので、Numpyと同じ書き方をするだけで、GPU上で計算できる。\n",
    "\n",
    "* [ChainerのCupyでGPUを有効活用しよう](http://mktozk.hateblo.jp/entry/chainer-cupy-tips)"
   ]
  },
  {
   "cell_type": "markdown",
   "metadata": {},
   "source": [
    "## Ubuntu 16.04のインストールする"
   ]
  },
  {
   "cell_type": "markdown",
   "metadata": {},
   "source": [
    "* [CUDA 8.0 Downloads | NVIDIA Developer](https://developer.nvidia.com/cuda-downloads)からToolKitをダウンロード。\n",
    "\n",
    "| Select Target Platform  |            |\n",
    "|-------------------------|------------|\n",
    "| Operationg System       | Linux      |\n",
    "| Architecture            | x86_64     |\n",
    "| Distribution            | Ubuntu     |\n",
    "| Version                 | 16.04      |\n",
    "| Installer Type          | deb(local) |\n",
    "\n",
    "* CUDA本体をインストール\n",
    "\n",
    "```shell\n",
    "sudo apt-get install cuda\n",
    "```\n",
    "\n",
    "* CUDAにPATHを通す\n",
    "\n",
    "```shell\n",
    "vi .bashrc\n",
    "\n",
    "export PATH=\"/usr/local/cuda-8.0/bin:$PATH\"\n",
    "export LD_LIBRARY_PATH=\"/usr/local/cuda-8.0/lib64:$LD_LIBRARY_PATH\"\n",
    "```\n",
    "\n",
    "* CUDAサポートのChainerをインストール  \n",
    "CUDA_PATHにCUDAのインストールパスを指定してインストール。\n",
    "\n",
    "```shell\n",
    "CUDA_PATH=/usr/local/cuda pip install chainer -vvvv\n",
    "```"
   ]
  },
  {
   "cell_type": "markdown",
   "metadata": {},
   "source": [
    "## CuPyが正常にインストールされたか確認\n",
    "\n",
    "エラーメッセージが表示されなければ正常にインストールされている。"
   ]
  },
  {
   "cell_type": "code",
   "execution_count": 1,
   "metadata": {
    "collapsed": true
   },
   "outputs": [],
   "source": [
    "import cupy"
   ]
  },
  {
   "cell_type": "markdown",
   "metadata": {},
   "source": [
    "## 参考\n",
    "\n",
    "* [Install Guide - Chainer 1.18.0 documentation](http://docs.chainer.org/en/stable/install.html)\n",
    "* [Ubuntu 16.04にChainerをインストール](http://robotics4society.com/2016/06/17/ubuntu-cahiner/)\n",
    "* [Ubuntu 16.04へのCUDAインストール方法](http://qiita.com/yukoba/items/3692f1cb677b2383c983)"
   ]
  }
 ],
 "metadata": {
  "anaconda-cloud": {},
  "kernelspec": {
   "display_name": "Python [default]",
   "language": "python",
   "name": "python3"
  },
  "language_info": {
   "codemirror_mode": {
    "name": "ipython",
    "version": 3
   },
   "file_extension": ".py",
   "mimetype": "text/x-python",
   "name": "python",
   "nbconvert_exporter": "python",
   "pygments_lexer": "ipython3",
   "version": "3.5.2"
  }
 },
 "nbformat": 4,
 "nbformat_minor": 1
}
